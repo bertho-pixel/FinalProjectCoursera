{
 "cells": [
  {
   "cell_type": "markdown",
   "id": "7473d2df-fc1e-4765-81cf-07caea157c3a",
   "metadata": {},
   "source": [
    "# **Web Scraping Lab**"
   ]
  },
  {
   "cell_type": "markdown",
   "id": "6f0556dc-b9d4-4c05-bc3c-69e99e308278",
   "metadata": {},
   "source": [
    "## Objectives"
   ]
  },
  {
   "cell_type": "markdown",
   "id": "e4a62c82-4a95-4a28-8028-c9216db7dc1e",
   "metadata": {},
   "source": [
    "After completing this lab you will be able to:"
   ]
  },
  {
   "cell_type": "markdown",
   "id": "50e99e08-c825-45d6-953b-4f7088ad19bf",
   "metadata": {},
   "source": [
    "* Télécharger une page web à l'aide d'un module de requêtes\n",
    "* Récupérer tous les liens d'une page web\n",
    "* Récupérer toutes les urls d'images d'une page web\n",
    "* Récupérer des données à partir de tableaux html"
   ]
  },
  {
   "cell_type": "markdown",
   "id": "94cf442b-1eee-4e16-887d-16267919e0e7",
   "metadata": {},
   "source": [
    "## Scrape www.ibm.com"
   ]
  },
  {
   "cell_type": "markdown",
   "id": "be15e029-b913-4710-a088-2479605f3886",
   "metadata": {},
   "source": [
    "Importer les modules et fonctions requis"
   ]
  },
  {
   "cell_type": "code",
   "execution_count": 7,
   "id": "8d3a2af1-f44b-4349-8940-d63b51f51918",
   "metadata": {},
   "outputs": [],
   "source": [
    "from bs4 import BeautifulSoup # ce module permet de faire du web scrapping.\n",
    "import requests  # ce module nous aide à télécharger une page web"
   ]
  },
  {
   "cell_type": "markdown",
   "id": "d8f61902-1ead-470c-98cb-ab5166a3a0ee",
   "metadata": {},
   "source": [
    "Télécharger le contenu de la page web"
   ]
  },
  {
   "cell_type": "code",
   "execution_count": 14,
   "id": "9da6510a-9cfd-4096-8c60-1b5c704f97a4",
   "metadata": {},
   "outputs": [],
   "source": [
    "url = \"http://www.ibm.com\""
   ]
  },
  {
   "cell_type": "code",
   "execution_count": 16,
   "id": "c6ffed0b-51a7-4c14-bcab-3e1a95d274d8",
   "metadata": {},
   "outputs": [],
   "source": [
    "# récupérer le contenu de la page web au format texte et le stocker dans une variable appelée data\n",
    "data  = requests.get(url).text "
   ]
  },
  {
   "cell_type": "markdown",
   "id": "c16ab72a-73eb-4800-8509-b299022a3768",
   "metadata": {},
   "source": [
    "Créer un objet soupe en utilisant la classe BeautifulSoup"
   ]
  },
  {
   "cell_type": "code",
   "execution_count": 19,
   "id": "80e6e5df-a5d8-45d0-bd31-80be9d614495",
   "metadata": {},
   "outputs": [],
   "source": [
    "soup = BeautifulSoup(data,\"html.parser\")  # créer un objet soup en utilisant la variable « data »."
   ]
  },
  {
   "cell_type": "markdown",
   "id": "6ede6ccb-330f-4ceb-9191-ee68c5accd07",
   "metadata": {},
   "source": [
    "Récupérer tous les liens"
   ]
  },
  {
   "cell_type": "code",
   "execution_count": 22,
   "id": "d3ebb9d6-c659-4ae0-be16-330eb7498497",
   "metadata": {},
   "outputs": [
    {
     "name": "stdout",
     "output_type": "stream",
     "text": [
      "https://www.ibm.com/hybrid-cloud?lnk=hpUSbt1\n",
      "https://www.ibm.com/consulting\n"
     ]
    }
   ],
   "source": [
    "for link in soup.find_all('a'):  # in html anchor/link is represented by the tag <a>\n",
    "    print(link.get('href'))"
   ]
  },
  {
   "cell_type": "markdown",
   "id": "bdc90b95-7157-41b1-be73-edbe503f11ee",
   "metadata": {},
   "source": [
    "Récupérer toutes les images"
   ]
  },
  {
   "cell_type": "code",
   "execution_count": 25,
   "id": "3d69618a-4131-4d0a-9622-b47e5b727020",
   "metadata": {},
   "outputs": [],
   "source": [
    "for link in soup.find_all('img'):# in html image is represented by the tag <img>\n",
    "    print(link.get('src'))"
   ]
  },
  {
   "cell_type": "markdown",
   "id": "6a11f512-1278-4314-9c21-5073c074aab2",
   "metadata": {},
   "source": [
    "Récupérer des données à partir de tableaux html"
   ]
  },
  {
   "cell_type": "markdown",
   "id": "d3310bad-e828-4ff5-b54e-99af9dbcd8c9",
   "metadata": {},
   "source": [
    "L'url ci-dessous contient un tableau html avec des données sur les couleurs et les codes de couleur."
   ]
  },
  {
   "cell_type": "code",
   "execution_count": 40,
   "id": "b0d65217-974e-4fa8-aa06-c0e2add9b0e9",
   "metadata": {},
   "outputs": [],
   "source": [
    "url = \"https://cf-courses-data.s3.us.cloud-object-storage.appdomain.cloud/IBM-DA0321EN-SkillsNetwork/labs/datasets/HTMLColorCodes.html\""
   ]
  },
  {
   "cell_type": "markdown",
   "id": "3a23e592-c12d-4ae3-b19d-8d0096715c48",
   "metadata": {},
   "source": [
    "Avant de procéder à l'exploration d'un site web, vous devez en examiner le contenu et la manière dont les données sont organisées sur le site. Ouvrez l'URL ci-dessus dans votre navigateur et vérifiez le nombre de lignes et de colonnes dans le tableau des couleurs."
   ]
  },
  {
   "cell_type": "code",
   "execution_count": 42,
   "id": "dad799ec-f574-4c0e-b16f-26046f341a1d",
   "metadata": {},
   "outputs": [],
   "source": [
    "# récupérer le contenu de la page web au format texte et le stocker dans une variable appelée data\n",
    "data  = requests.get(url).text"
   ]
  },
  {
   "cell_type": "code",
   "execution_count": 44,
   "id": "ca2af8d2-ba8c-47ff-b6d5-9f489e7e1047",
   "metadata": {},
   "outputs": [],
   "source": [
    "soup = BeautifulSoup(data,\"html.parser\")"
   ]
  },
  {
   "cell_type": "code",
   "execution_count": 46,
   "id": "0bc4303e-3e07-4b72-9dcd-24fa09f5880a",
   "metadata": {},
   "outputs": [],
   "source": [
    "#trouver un tableau html dans la page web\n",
    "table = soup.find('table') # En html, le tableau est représenté par la balise <table>."
   ]
  },
  {
   "cell_type": "code",
   "execution_count": 48,
   "id": "594aeff4-0fc8-4c70-95e3-43cc7c668f44",
   "metadata": {},
   "outputs": [
    {
     "name": "stdout",
     "output_type": "stream",
     "text": [
      "Color Name--->Hex Code#RRGGBB\n",
      "lightsalmon--->#FFA07A\n",
      "salmon--->#FA8072\n",
      "darksalmon--->#E9967A\n",
      "lightcoral--->#F08080\n",
      "coral--->#FF7F50\n",
      "tomato--->#FF6347\n",
      "orangered--->#FF4500\n",
      "gold--->#FFD700\n",
      "orange--->#FFA500\n",
      "darkorange--->#FF8C00\n",
      "lightyellow--->#FFFFE0\n",
      "lemonchiffon--->#FFFACD\n",
      "papayawhip--->#FFEFD5\n",
      "moccasin--->#FFE4B5\n",
      "peachpuff--->#FFDAB9\n",
      "palegoldenrod--->#EEE8AA\n",
      "khaki--->#F0E68C\n",
      "darkkhaki--->#BDB76B\n",
      "yellow--->#FFFF00\n",
      "lawngreen--->#7CFC00\n",
      "chartreuse--->#7FFF00\n",
      "limegreen--->#32CD32\n",
      "lime--->#00FF00\n",
      "forestgreen--->#228B22\n",
      "green--->#008000\n",
      "powderblue--->#B0E0E6\n",
      "lightblue--->#ADD8E6\n",
      "lightskyblue--->#87CEFA\n",
      "skyblue--->#87CEEB\n",
      "deepskyblue--->#00BFFF\n",
      "lightsteelblue--->#B0C4DE\n",
      "dodgerblue--->#1E90FF\n"
     ]
    }
   ],
   "source": [
    "#Get all rows from the table\n",
    "for row in table.find_all('tr'): # dans un tableau html, la ligne de cellules est représentée par la balise <tr>.\n",
    "    # Obtenir toutes les colonnes de chaque ligne.\n",
    "    cols = row.find_all('td') # en html, une colonne est représentée par la balise <td>.\n",
    "    color_name = cols[2].getText() # stocker la valeur dans la colonne 3 en tant que nom_couleur\n",
    "    color_code = cols[3].getText() # stocker la valeur dans la colonne 4 en tant que color_code\n",
    "    print(\"{}--->{}\".format(color_name,color_code))"
   ]
  },
  {
   "cell_type": "code",
   "execution_count": null,
   "id": "1f693606-c226-43b9-b09c-c769304f6b92",
   "metadata": {},
   "outputs": [],
   "source": []
  }
 ],
 "metadata": {
  "kernelspec": {
   "display_name": "Python 3 (ipykernel)",
   "language": "python",
   "name": "python3"
  },
  "language_info": {
   "codemirror_mode": {
    "name": "ipython",
    "version": 3
   },
   "file_extension": ".py",
   "mimetype": "text/x-python",
   "name": "python",
   "nbconvert_exporter": "python",
   "pygments_lexer": "ipython3",
   "version": "3.12.4"
  }
 },
 "nbformat": 4,
 "nbformat_minor": 5
}
